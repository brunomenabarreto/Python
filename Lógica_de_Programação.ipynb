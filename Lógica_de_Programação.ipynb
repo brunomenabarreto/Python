{
  "nbformat": 4,
  "nbformat_minor": 0,
  "metadata": {
    "colab": {
      "provenance": [],
      "authorship_tag": "ABX9TyMkYZJaquG8OPR6i7m2UK4X",
      "include_colab_link": true
    },
    "kernelspec": {
      "name": "python3",
      "display_name": "Python 3"
    },
    "language_info": {
      "name": "python"
    }
  },
  "cells": [
    {
      "cell_type": "markdown",
      "metadata": {
        "id": "view-in-github",
        "colab_type": "text"
      },
      "source": [
        "<a href=\"https://colab.research.google.com/github/brunomenabarreto/Python/blob/main/L%C3%B3gica_de_Programa%C3%A7%C3%A3o.ipynb\" target=\"_parent\"><img src=\"https://colab.research.google.com/assets/colab-badge.svg\" alt=\"Open In Colab\"/></a>"
      ]
    },
    {
      "cell_type": "markdown",
      "source": [
        "# **Lógica de Programação com Python**"
      ],
      "metadata": {
        "id": "2Z7ZTymY-GiB"
      }
    },
    {
      "cell_type": "code",
      "source": [
        "nome"
      ],
      "metadata": {
        "colab": {
          "base_uri": "https://localhost:8080/",
          "height": 35
        },
        "id": "RxeNWEld9UsY",
        "outputId": "5013052e-7540-4c5b-b1de-afe6990930e7"
      },
      "execution_count": null,
      "outputs": [
        {
          "output_type": "execute_result",
          "data": {
            "text/plain": [
              "'Guilherme'"
            ],
            "application/vnd.google.colaboratory.intrinsic+json": {
              "type": "string"
            }
          },
          "metadata": {},
          "execution_count": 7
        }
      ]
    },
    {
      "cell_type": "code",
      "source": [
        "idade"
      ],
      "metadata": {
        "colab": {
          "base_uri": "https://localhost:8080/"
        },
        "id": "6Qh6PDcc9Vg9",
        "outputId": "bef5d94e-58fc-4c33-a6f2-21009dd78bb4"
      },
      "execution_count": null,
      "outputs": [
        {
          "output_type": "execute_result",
          "data": {
            "text/plain": [
              "28"
            ]
          },
          "metadata": {},
          "execution_count": 8
        }
      ]
    },
    {
      "cell_type": "code",
      "source": [
        "print(f'o nome é {nome} e sua idade é {idade} anos')"
      ],
      "metadata": {
        "colab": {
          "base_uri": "https://localhost:8080/"
        },
        "id": "oVeDQwd39X-r",
        "outputId": "e5f84de6-eaea-456f-d6ac-4776536a63dd"
      },
      "execution_count": null,
      "outputs": [
        {
          "output_type": "stream",
          "name": "stdout",
          "text": [
            "o nome é Guilherme e sua idade é 28 anos\n"
          ]
        }
      ]
    },
    {
      "cell_type": "code",
      "source": [
        "idade = 29"
      ],
      "metadata": {
        "id": "1LVTL59z9gEt"
      },
      "execution_count": null,
      "outputs": []
    },
    {
      "cell_type": "code",
      "source": [
        "print(f'o nome é {nome} e sua idade é {idade} anos')"
      ],
      "metadata": {
        "colab": {
          "base_uri": "https://localhost:8080/"
        },
        "id": "KV29CCnQ9m6s",
        "outputId": "1603dd69-0c55-477f-ea54-01a456edd0ca"
      },
      "execution_count": null,
      "outputs": [
        {
          "output_type": "stream",
          "name": "stdout",
          "text": [
            "o nome é Guilherme e sua idade é 29 anos\n"
          ]
        }
      ]
    },
    {
      "cell_type": "markdown",
      "source": [
        "# **Criando minha primeira função**"
      ],
      "metadata": {
        "id": "38K0EMjW90uR"
      }
    },
    {
      "cell_type": "code",
      "source": [
        "def saudacao ():\n",
        "  nome = input('Qual o seu nome?')\n",
        "  print(f'Olá {nome}')"
      ],
      "metadata": {
        "id": "IebLcX2k-UFz"
      },
      "execution_count": null,
      "outputs": []
    },
    {
      "cell_type": "code",
      "source": [
        "saudacao()"
      ],
      "metadata": {
        "colab": {
          "base_uri": "https://localhost:8080/"
        },
        "id": "f2N8ovLS_APe",
        "outputId": "8b5baf5b-74bb-4198-d0fb-1f476f7cbcc4"
      },
      "execution_count": null,
      "outputs": [
        {
          "output_type": "stream",
          "name": "stdout",
          "text": [
            "Qual o seu nome?Bruno\n",
            "Olá Bruno\n"
          ]
        }
      ]
    },
    {
      "cell_type": "markdown",
      "source": [
        "# **Parâmetros**"
      ],
      "metadata": {
        "id": "sP3WNL4sD9Ea"
      }
    },
    {
      "cell_type": "code",
      "source": [
        "nome = 'João'"
      ],
      "metadata": {
        "id": "Ms7YawfPA9FI"
      },
      "execution_count": null,
      "outputs": []
    },
    {
      "cell_type": "code",
      "source": [
        "def saudacao_com_parametros(nome_da_pessoa):\n",
        "  print(f'Olá {nome_da_pessoa}')"
      ],
      "metadata": {
        "id": "RgXDHvQh_HFf"
      },
      "execution_count": null,
      "outputs": []
    },
    {
      "cell_type": "code",
      "source": [
        "saudacao_com_parametros(nome)"
      ],
      "metadata": {
        "colab": {
          "base_uri": "https://localhost:8080/"
        },
        "id": "jDUg0ZuKDeoD",
        "outputId": "189a7484-eef2-4f6c-ccb3-02ba7942012b"
      },
      "execution_count": null,
      "outputs": [
        {
          "output_type": "stream",
          "name": "stdout",
          "text": [
            "Olá João\n"
          ]
        }
      ]
    },
    {
      "cell_type": "markdown",
      "source": [
        "# **Condicional**"
      ],
      "metadata": {
        "id": "8PhQqIOhNyn0"
      }
    },
    {
      "cell_type": "code",
      "source": [
        "idade = 19\n",
        "idade - int(idade)\n",
        "\n",
        "def verica_se_pode_dirigir(idade):\n",
        "  if idade >= 18:\n",
        "   print('Tem permissão para dirigir')\n",
        "\n",
        "  verifica_se_pode_dirigir(idade)"
      ],
      "metadata": {
        "id": "AmWYkhSEJM8y"
      },
      "execution_count": null,
      "outputs": []
    },
    {
      "cell_type": "code",
      "source": [
        "idade = 18\n",
        "idade = int(idade)\n",
        "\n",
        "def verica_se_pode_dirigir(idade):\n",
        "  if idade >= 18:\n",
        "   print('Tem permissão para dirigir')\n",
        "  else:\n",
        "    print('Não tem permissão para dirigir')\n",
        "\n",
        "  verifica_se_pode_dirigir(idade)"
      ],
      "metadata": {
        "id": "nXV7qoVDJUYk"
      },
      "execution_count": null,
      "outputs": []
    },
    {
      "cell_type": "markdown",
      "source": [
        "# **Convertendo tipo para inteiro**"
      ],
      "metadata": {
        "id": "J8YgCAUKN_TM"
      }
    },
    {
      "cell_type": "code",
      "source": [
        "def verifica_se_pode_dirigir_sem_parametros():\n",
        "  idade = input ('Qual a sua idade? ')\n",
        "  idade = int(idade)\n",
        "  if idade >= 18:\n",
        "    print('Tem permissão para dirigir')\n",
        "  else:\n",
        "    print ('Não tem permissão para dirigir')\n",
        "\n",
        "verifica_se_pode_dirigir_sem_parametros()"
      ],
      "metadata": {
        "colab": {
          "base_uri": "https://localhost:8080/"
        },
        "id": "J5pOi1SNJ7nV",
        "outputId": "746b39c8-8e7e-4343-abd0-63675a9a1a1f"
      },
      "execution_count": null,
      "outputs": [
        {
          "output_type": "stream",
          "name": "stdout",
          "text": [
            "Qual a sua idade? 12\n",
            "Não tem permissão para dirigir\n"
          ]
        }
      ]
    },
    {
      "cell_type": "code",
      "source": [
        "def verifica_se_pode_dirigir():\n",
        "  idade = input ('Qual a sua idade? ')\n",
        "  idade = int(idade)\n",
        "  if idade >= 18:\n",
        "    print('Tem permissão para dirigir')\n",
        "  else:\n",
        "    print('Não tem permissão para dirigir')\n",
        "  \n",
        "verifica_se_pode_dirigir()"
      ],
      "metadata": {
        "colab": {
          "base_uri": "https://localhost:8080/"
        },
        "id": "WUu8NU4Qdre6",
        "outputId": "1f66227d-fe41-4c00-b96b-7b93dbfbf235"
      },
      "execution_count": null,
      "outputs": [
        {
          "output_type": "stream",
          "name": "stdout",
          "text": [
            "Qual a sua idade? 75\n",
            "Tem permissão para dirigir\n"
          ]
        }
      ]
    },
    {
      "cell_type": "markdown",
      "source": [
        "# **Exercício \"indo até a padaria\"**"
      ],
      "metadata": {
        "id": "55B1b9zLfrsZ"
      }
    },
    {
      "cell_type": "code",
      "source": [
        "def velocidade(espaco, tempo):\n",
        "    v = espaco / tempo\n",
        "    print(f'Velocidade: {v} m/s')\n",
        "\n",
        "velocidade (100, 20)"
      ],
      "metadata": {
        "colab": {
          "base_uri": "https://localhost:8080/"
        },
        "id": "rUnMUSDPe87E",
        "outputId": "d81e3601-e9b8-4537-b99d-975d4a29bc59"
      },
      "execution_count": null,
      "outputs": [
        {
          "output_type": "stream",
          "name": "stdout",
          "text": [
            "Velocidade: 5.0 m/s\n"
          ]
        }
      ]
    },
    {
      "cell_type": "markdown",
      "source": [
        "# **Exercício \"Habilitação e TypeError\"**"
      ],
      "metadata": {
        "id": "mQE_0AVbgF3f"
      }
    },
    {
      "cell_type": "code",
      "source": [
        "def habilitacao():\n",
        "  idade = input('Qual a sua idade? ')\n",
        "  idade = int(idade)\n",
        "  if idade >= 18:\n",
        "    print('Pode tirar habilitacao')\n",
        "  else:\n",
        "    tempo = 18 - (idade)\n",
        "    print(f'Calma... espere {tempo} ano(s) para tirar habilitação')\n",
        "\n",
        "habilitacao()"
      ],
      "metadata": {
        "colab": {
          "base_uri": "https://localhost:8080/"
        },
        "id": "Toyl7NFugKdp",
        "outputId": "c364cdec-9a38-41cd-b818-ec7e7fb6acf3"
      },
      "execution_count": null,
      "outputs": [
        {
          "output_type": "stream",
          "name": "stdout",
          "text": [
            "Qual a sua idade? 5\n",
            "Calma... espere 13 ano(s) para tirar habilitação\n"
          ]
        }
      ]
    },
    {
      "cell_type": "markdown",
      "source": [
        "# **Criando uma lista**"
      ],
      "metadata": {
        "id": "v5_aGsNli3nL"
      }
    },
    {
      "cell_type": "code",
      "source": [
        "idades = [18, 22, 15, 50]"
      ],
      "metadata": {
        "id": "Qkf0Nv4-i51R"
      },
      "execution_count": null,
      "outputs": []
    },
    {
      "cell_type": "code",
      "source": [
        "idades [1:4]"
      ],
      "metadata": {
        "colab": {
          "base_uri": "https://localhost:8080/"
        },
        "id": "OjDhQZBXuIvF",
        "outputId": "3b6efae1-a91b-41a9-b097-716329e0fb13"
      },
      "execution_count": null,
      "outputs": [
        {
          "output_type": "execute_result",
          "data": {
            "text/plain": [
              "[22, 15, 50]"
            ]
          },
          "metadata": {},
          "execution_count": 37
        }
      ]
    },
    {
      "cell_type": "markdown",
      "source": [
        "# **Laços e Loops**"
      ],
      "metadata": {
        "id": "uHDZiymeu49-"
      }
    },
    {
      "cell_type": "code",
      "source": [
        "idades"
      ],
      "metadata": {
        "colab": {
          "base_uri": "https://localhost:8080/"
        },
        "id": "y0n_sMPSu7xb",
        "outputId": "53ec0495-b050-45c6-8f90-1c10f8aa667b"
      },
      "execution_count": null,
      "outputs": [
        {
          "output_type": "execute_result",
          "data": {
            "text/plain": [
              "[18, 22, 15, 50]"
            ]
          },
          "metadata": {},
          "execution_count": 57
        }
      ]
    },
    {
      "cell_type": "code",
      "source": [
        "# FOR fora da Função\n",
        "\n",
        "def verifica_se_pode_dirigir(idade):\n",
        "  if idade >= 18:\n",
        "    print(f'{idade} anos de idade, TEM permissão para dirigir')\n",
        "  else:\n",
        "    print(f'{idade} anos de idade, NÃO TEM permissão para dirigir')\n",
        "\n",
        "for idade in idades: \n",
        "  verifica_se_pode_dirigir(idade)"
      ],
      "metadata": {
        "colab": {
          "base_uri": "https://localhost:8080/"
        },
        "id": "b1w_9fk0vyih",
        "outputId": "ade9f365-f26c-439d-b535-e424a7de1a00"
      },
      "execution_count": null,
      "outputs": [
        {
          "output_type": "stream",
          "name": "stdout",
          "text": [
            "18 anos de idade, TEM permissão para dirigir\n",
            "22 anos de idade, TEM permissão para dirigir\n",
            "15 anos de idade, NÃO TEM permissão para dirigir\n",
            "50 anos de idade, TEM permissão para dirigir\n"
          ]
        }
      ]
    },
    {
      "cell_type": "code",
      "source": [
        "# For DENTRO da Função\n",
        "\n",
        "def verifica_se_pode_dirigir(idade):\n",
        "  for idade in idades:\n",
        "    if idade >= 18:\n",
        "      print(f'{idade} anos de idade, TEM permissão para dirigir')\n",
        "    else:\n",
        "      print(f'{idade} anos de idade, NÃO TEM permissão para dirigir')\n",
        "\n",
        "verifica_se_pode_dirigir(idade)"
      ],
      "metadata": {
        "colab": {
          "base_uri": "https://localhost:8080/"
        },
        "id": "uJOFV6n8zmc3",
        "outputId": "e1d0ba02-0477-4a10-8fce-d08a81a94669"
      },
      "execution_count": null,
      "outputs": [
        {
          "output_type": "stream",
          "name": "stdout",
          "text": [
            "18 anos de idade, TEM permissão para dirigir\n",
            "22 anos de idade, TEM permissão para dirigir\n",
            "15 anos de idade, NÃO TEM permissão para dirigir\n",
            "50 anos de idade, TEM permissão para dirigir\n"
          ]
        }
      ]
    },
    {
      "cell_type": "markdown",
      "source": [
        "# **Tipo Boleano**"
      ],
      "metadata": {
        "id": "xDoIZc1u0zFM"
      }
    },
    {
      "cell_type": "code",
      "source": [
        "idade = 18\n",
        "idade >= 18"
      ],
      "metadata": {
        "colab": {
          "base_uri": "https://localhost:8080/"
        },
        "id": "yzRXVmZD03kK",
        "outputId": "792e2da4-f532-4e71-94c4-cbfbb036bfd5"
      },
      "execution_count": null,
      "outputs": [
        {
          "output_type": "execute_result",
          "data": {
            "text/plain": [
              "True"
            ]
          },
          "metadata": {},
          "execution_count": 70
        }
      ]
    },
    {
      "cell_type": "code",
      "source": [
        "idade = 15\n",
        "idade >= 18"
      ],
      "metadata": {
        "colab": {
          "base_uri": "https://localhost:8080/"
        },
        "id": "ASGo3IeF0_9s",
        "outputId": "99abb1e5-5369-4ddf-fe15-0b0c92325afe"
      },
      "execution_count": null,
      "outputs": [
        {
          "output_type": "execute_result",
          "data": {
            "text/plain": [
              "False"
            ]
          },
          "metadata": {},
          "execution_count": 71
        }
      ]
    },
    {
      "cell_type": "code",
      "source": [
        "permissoes = []\n",
        "idades = [20, 14, 40]"
      ],
      "metadata": {
        "id": "2cdrBhrn1DgL"
      },
      "execution_count": null,
      "outputs": []
    },
    {
      "cell_type": "code",
      "source": [
        "def verifica_se_pode_dirigir(idades, permissoes):\n",
        "    for idade in idades:\n",
        "      if idade >= 18:\n",
        "          permissoes.append(True)\n",
        "    else:\n",
        "          permissoes.append(False)\n",
        "\n",
        "verifica_se_pode_dirigir(idades, permissoes)"
      ],
      "metadata": {
        "id": "Q-VI6-Vk3wtH"
      },
      "execution_count": null,
      "outputs": []
    },
    {
      "cell_type": "code",
      "source": [
        "def verifica_se_pode_dirigir(idades, permissoes):\n",
        "    for idade in idades:\n",
        "      if idade >= 18:\n",
        "          permissoes.append(True)\n",
        "      else:\n",
        "          permissoes.append(False)\n",
        "\n",
        "verifica_se_pode_dirigir(idades, permissoes)"
      ],
      "metadata": {
        "id": "pVFReb8x4KyX"
      },
      "execution_count": null,
      "outputs": []
    },
    {
      "cell_type": "markdown",
      "source": [
        "# **Exercício Tipo Boleano**"
      ],
      "metadata": {
        "id": "xaf5YhRm4ri7"
      }
    },
    {
      "cell_type": "code",
      "source": [
        "idades = [15, 16, 18, 22, 25, 38, 78]"
      ],
      "metadata": {
        "id": "1E_KjjCr4vQm"
      },
      "execution_count": null,
      "outputs": []
    },
    {
      "cell_type": "code",
      "source": [
        "idades"
      ],
      "metadata": {
        "colab": {
          "base_uri": "https://localhost:8080/"
        },
        "id": "1rXxZXNs5GvX",
        "outputId": "39f99f81-da01-4564-d169-4d45fc93e9c9"
      },
      "execution_count": null,
      "outputs": [
        {
          "output_type": "execute_result",
          "data": {
            "text/plain": [
              "[15, 16, 18, 22, 25, 38, 78]"
            ]
          },
          "metadata": {},
          "execution_count": 96
        }
      ]
    },
    {
      "cell_type": "code",
      "source": [
        "parametros = []"
      ],
      "metadata": {
        "id": "r-rUE7Qb5ZOU"
      },
      "execution_count": null,
      "outputs": []
    },
    {
      "cell_type": "code",
      "source": [
        "def verifica_se_pode_dirigir(idades, parametros):\n",
        "    for idade in idades:\n",
        "      if idade >= 18:\n",
        "        print(f'{idade} anos, Tem permissão para dirigir')\n",
        "      else:\n",
        "        print(f'{idade} anos, Não tem permissão para dirigir')\n",
        "\n",
        "verifica_se_pode_dirigir(idades, parametros)"
      ],
      "metadata": {
        "colab": {
          "base_uri": "https://localhost:8080/"
        },
        "id": "_oSkvF-05jLT",
        "outputId": "70341c62-65e8-4d95-cd4a-a86880f6ebb0"
      },
      "execution_count": null,
      "outputs": [
        {
          "output_type": "stream",
          "name": "stdout",
          "text": [
            "15 anos, Não tem permissão para dirigir\n",
            "16 anos, Não tem permissão para dirigir\n",
            "18 anos, Tem permissão para dirigir\n",
            "22 anos, Tem permissão para dirigir\n",
            "25 anos, Tem permissão para dirigir\n",
            "38 anos, Tem permissão para dirigir\n",
            "78 anos, Tem permissão para dirigir\n"
          ]
        }
      ]
    },
    {
      "cell_type": "code",
      "source": [
        "a=2\n",
        "\n",
        "if a < 2:\n",
        " a = a + 1\n",
        "else:\n",
        " a = a + 2\n",
        "if a < 4:\n",
        " a = a - 4\n",
        "else:\n",
        " a = a + 6\n",
        "\n",
        "a"
      ],
      "metadata": {
        "colab": {
          "base_uri": "https://localhost:8080/"
        },
        "id": "dlFDtumG7mnP",
        "outputId": "b8715bfe-0ccf-4e31-f710-a82cd509943a"
      },
      "execution_count": null,
      "outputs": [
        {
          "output_type": "execute_result",
          "data": {
            "text/plain": [
              "10"
            ]
          },
          "metadata": {},
          "execution_count": 104
        }
      ]
    },
    {
      "cell_type": "code",
      "source": [
        "pi = 3.14\n",
        "type(pi)"
      ],
      "metadata": {
        "colab": {
          "base_uri": "https://localhost:8080/"
        },
        "id": "o9xAkcEC8uyQ",
        "outputId": "7fd5b900-f941-4583-f95f-0fd2b1e3c71b"
      },
      "execution_count": null,
      "outputs": [
        {
          "output_type": "execute_result",
          "data": {
            "text/plain": [
              "float"
            ]
          },
          "metadata": {},
          "execution_count": 105
        }
      ]
    },
    {
      "cell_type": "markdown",
      "source": [
        "# **Tipos em uma Lista**"
      ],
      "metadata": {
        "id": "V9WmF4SD9-Uh"
      }
    },
    {
      "cell_type": "code",
      "source": [
        "lista = ['Guilherme', 28, True, '18']\n",
        "\n",
        "for elemento in lista:\n",
        "  print(f'O elemento {elemento} é do tipo: ',type(elemento))"
      ],
      "metadata": {
        "colab": {
          "base_uri": "https://localhost:8080/"
        },
        "id": "R18Hddzq-CKl",
        "outputId": "c34ceb3b-df75-451a-c976-b526d7dd89ec"
      },
      "execution_count": null,
      "outputs": [
        {
          "output_type": "stream",
          "name": "stdout",
          "text": [
            "O elemento Guilherme é do tipo:  <class 'str'>\n",
            "O elemento 28 é do tipo:  <class 'int'>\n",
            "O elemento True é do tipo:  <class 'bool'>\n",
            "O elemento 18 é do tipo:  <class 'str'>\n"
          ]
        }
      ]
    },
    {
      "cell_type": "code",
      "source": [],
      "metadata": {
        "id": "0rQgY-INC6kx"
      },
      "execution_count": null,
      "outputs": []
    },
    {
      "cell_type": "markdown",
      "source": [
        "# **Import**"
      ],
      "metadata": {
        "id": "aLmTDQVR2n9k"
      }
    },
    {
      "cell_type": "code",
      "source": [
        "from random import randrange, seed"
      ],
      "metadata": {
        "id": "Xad9MFQH2wBN"
      },
      "execution_count": 36,
      "outputs": []
    },
    {
      "cell_type": "code",
      "source": [
        "seed(7)"
      ],
      "metadata": {
        "id": "sRz8Cla84yzd"
      },
      "execution_count": 37,
      "outputs": []
    },
    {
      "cell_type": "code",
      "source": [
        "randrange(0,20)"
      ],
      "metadata": {
        "colab": {
          "base_uri": "https://localhost:8080/"
        },
        "id": "l54vYrWu3QyV",
        "outputId": "876923df-72ee-42b2-8a92-bea7a5498225"
      },
      "execution_count": 38,
      "outputs": [
        {
          "output_type": "execute_result",
          "data": {
            "text/plain": [
              "10"
            ]
          },
          "metadata": {},
          "execution_count": 38
        }
      ]
    },
    {
      "cell_type": "code",
      "source": [
        "notas_matematica = []\n",
        "\n",
        "for notas in range(8):\n",
        "  notas_matematica.append(randrange(0,11))\n",
        "\n",
        "notas_matematica"
      ],
      "metadata": {
        "colab": {
          "base_uri": "https://localhost:8080/"
        },
        "id": "fx2ra6IN3YmS",
        "outputId": "b2f1a411-b0d7-46bb-e64d-e15cb786ee91"
      },
      "execution_count": 44,
      "outputs": [
        {
          "output_type": "execute_result",
          "data": {
            "text/plain": [
              "[8, 1, 9, 4, 8, 10, 2, 1]"
            ]
          },
          "metadata": {},
          "execution_count": 44
        }
      ]
    },
    {
      "cell_type": "code",
      "source": [
        "len(notas_matematica)"
      ],
      "metadata": {
        "colab": {
          "base_uri": "https://localhost:8080/"
        },
        "id": "BtBjJFA04Z5T",
        "outputId": "391d1eee-3156-4906-bf16-c874fc48557b"
      },
      "execution_count": 35,
      "outputs": [
        {
          "output_type": "execute_result",
          "data": {
            "text/plain": [
              "8"
            ]
          },
          "metadata": {},
          "execution_count": 35
        }
      ]
    }
  ]
}